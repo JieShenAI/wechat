{
 "cells": [
  {
   "cell_type": "code",
   "execution_count": 1,
   "metadata": {},
   "outputs": [],
   "source": [
    "import os\n",
    "import evaluate\n",
    "import numpy as np\n",
    "from datasets import load_dataset\n",
    "from transformers import (\n",
    "    Trainer,\n",
    "    TrainingArguments,\n",
    "    AutoModelForSequenceClassification,\n",
    "    AutoTokenizer,\n",
    "    DataCollatorWithPadding,\n",
    ")\n",
    "from dataclasses import dataclass\n",
    "\n",
    "os.environ['HTTP_PROXY'] = 'http://127.0.0.1:7890'\n",
    "os.environ['HTTPS_PROXY'] = 'http://127.0.0.1:7890'"
   ]
  },
  {
   "cell_type": "code",
   "execution_count": 2,
   "metadata": {},
   "outputs": [],
   "source": [
    "from sklearn.metrics import classification_report, confusion_matrix"
   ]
  },
  {
   "cell_type": "markdown",
   "metadata": {},
   "source": [
    "## dataset"
   ]
  },
  {
   "cell_type": "code",
   "execution_count": 3,
   "metadata": {},
   "outputs": [
    {
     "data": {
      "text/plain": [
       "DatasetDict({\n",
       "    train: Dataset({\n",
       "        features: ['text', 'label'],\n",
       "        num_rows: 120000\n",
       "    })\n",
       "    test: Dataset({\n",
       "        features: ['text', 'label'],\n",
       "        num_rows: 7600\n",
       "    })\n",
       "})"
      ]
     },
     "execution_count": 3,
     "metadata": {},
     "output_type": "execute_result"
    }
   ],
   "source": [
    "dataset = load_dataset(\"fancyzhx/ag_news\")\n",
    "dataset"
   ]
  },
  {
   "cell_type": "code",
   "execution_count": 4,
   "metadata": {},
   "outputs": [
    {
     "data": {
      "text/plain": [
       "{'text': \"Wall St. Bears Claw Back Into the Black (Reuters) Reuters - Short-sellers, Wall Street's dwindling\\\\band of ultra-cynics, are seeing green again.\",\n",
       " 'label': 2}"
      ]
     },
     "execution_count": 4,
     "metadata": {},
     "output_type": "execute_result"
    }
   ],
   "source": [
    "dataset[\"train\"][0]"
   ]
  },
  {
   "cell_type": "code",
   "execution_count": 5,
   "metadata": {},
   "outputs": [
    {
     "data": {
      "text/plain": [
       "{'text': Value(dtype='string', id=None),\n",
       " 'label': ClassLabel(names=['World', 'Sports', 'Business', 'Sci/Tech'], id=None)}"
      ]
     },
     "execution_count": 5,
     "metadata": {},
     "output_type": "execute_result"
    }
   ],
   "source": [
    "dataset[\"train\"].features"
   ]
  },
  {
   "cell_type": "code",
   "execution_count": 20,
   "metadata": {},
   "outputs": [
    {
     "data": {
      "text/plain": [
       "['World', 'Sports', 'Business', 'Sci/Tech']"
      ]
     },
     "execution_count": 20,
     "metadata": {},
     "output_type": "execute_result"
    }
   ],
   "source": [
    "dataset[\"train\"].features['label'].names"
   ]
  },
  {
   "cell_type": "markdown",
   "metadata": {},
   "source": [
    "## model\n",
    "\n",
    "> 使用英文的BERT模型"
   ]
  },
  {
   "cell_type": "code",
   "execution_count": 6,
   "metadata": {},
   "outputs": [
    {
     "name": "stderr",
     "output_type": "stream",
     "text": [
      "Some weights of BertForSequenceClassification were not initialized from the model checkpoint at bert-base-uncased and are newly initialized: ['classifier.bias', 'classifier.weight']\n",
      "You should probably TRAIN this model on a down-stream task to be able to use it for predictions and inference.\n",
      "/home/jie/anaconda3/envs/d2l/lib/python3.11/site-packages/transformers/tokenization_utils_base.py:1601: FutureWarning: `clean_up_tokenization_spaces` was not set. It will be set to `True` by default. This behavior will be depracted in transformers v4.45, and will be then set to `False` by default. For more details check this issue: https://github.com/huggingface/transformers/issues/31884\n",
      "  warnings.warn(\n"
     ]
    }
   ],
   "source": [
    "model_name = \"bert-base-uncased\"\n",
    "\n",
    "bert = AutoModelForSequenceClassification.from_pretrained(\n",
    "    model_name,\n",
    "    trust_remote_code=True,\n",
    "    num_labels=4,\n",
    ")\n",
    "\n",
    "tokenizer = AutoTokenizer.from_pretrained(model_name)"
   ]
  },
  {
   "cell_type": "markdown",
   "metadata": {},
   "source": [
    "### tokenize"
   ]
  },
  {
   "cell_type": "code",
   "execution_count": 7,
   "metadata": {},
   "outputs": [],
   "source": [
    "def tokenize_func(tokenizer):\n",
    "\n",
    "    def _func(item):\n",
    "        return tokenizer(\n",
    "            item[\"text\"],\n",
    "            max_length=512,\n",
    "            truncation=True,\n",
    "        )\n",
    "\n",
    "    return _func"
   ]
  },
  {
   "cell_type": "code",
   "execution_count": 8,
   "metadata": {},
   "outputs": [
    {
     "data": {
      "text/plain": [
       "{'input_ids': [101, 2813, 2358, 1012, 6468, 15020, 2067, 2046, 1996, 2304, 1006, 26665, 1007, 26665, 1011, 2460, 1011, 19041, 1010, 2813, 2395, 1005, 1055, 1040, 11101, 2989, 1032, 2316, 1997, 11087, 1011, 22330, 8713, 2015, 1010, 2024, 3773, 2665, 2153, 1012, 102], 'token_type_ids': [0, 0, 0, 0, 0, 0, 0, 0, 0, 0, 0, 0, 0, 0, 0, 0, 0, 0, 0, 0, 0, 0, 0, 0, 0, 0, 0, 0, 0, 0, 0, 0, 0, 0, 0, 0, 0, 0, 0, 0, 0], 'attention_mask': [1, 1, 1, 1, 1, 1, 1, 1, 1, 1, 1, 1, 1, 1, 1, 1, 1, 1, 1, 1, 1, 1, 1, 1, 1, 1, 1, 1, 1, 1, 1, 1, 1, 1, 1, 1, 1, 1, 1, 1, 1]}"
      ]
     },
     "execution_count": 8,
     "metadata": {},
     "output_type": "execute_result"
    }
   ],
   "source": [
    "func = tokenize_func(tokenizer=tokenizer)\n",
    "func(dataset[\"train\"][0])"
   ]
  },
  {
   "cell_type": "code",
   "execution_count": 9,
   "metadata": {},
   "outputs": [],
   "source": [
    "new_dataset = dataset.map(tokenize_func(tokenizer=tokenizer))"
   ]
  },
  {
   "cell_type": "markdown",
   "metadata": {},
   "source": [
    "## train"
   ]
  },
  {
   "cell_type": "code",
   "execution_count": 10,
   "metadata": {},
   "outputs": [],
   "source": [
    "@dataclass\n",
    "class BertCLS:\n",
    "    def __init__(\n",
    "        self,\n",
    "        model,\n",
    "        tokenizer,\n",
    "        train_dataset=None,\n",
    "        eval_dataset=None,\n",
    "        output_dir=\"output/multi_cls/\",\n",
    "        epoch=3,\n",
    "    ):\n",
    "        self.model = model\n",
    "        self.tokenizer = tokenizer\n",
    "        self.train_dataset = train_dataset\n",
    "        self.eval_dataset = eval_dataset\n",
    "\n",
    "        self.data_collator = DataCollatorWithPadding(tokenizer=tokenizer)\n",
    "        self.args = self.get_args(output_dir, epoch)\n",
    "\n",
    "    def compute_metrics(self, eval_pred):\n",
    "        d = classification_report(\n",
    "            eval_pred.label_ids, eval_pred.predictions.argmax(-1), output_dict=True\n",
    "        )\n",
    "        return d\n",
    "\n",
    "    def get_args(self, output_dir, epoch):\n",
    "        if self.eval_dataset:\n",
    "            args = TrainingArguments(\n",
    "                output_dir=output_dir,\n",
    "                evaluation_strategy=\"epoch\",\n",
    "                save_strategy=\"epoch\",\n",
    "                save_total_limit=3,\n",
    "                learning_rate=2e-5,\n",
    "                num_train_epochs=epoch,\n",
    "                weight_decay=0.01,\n",
    "                per_device_train_batch_size=32,\n",
    "                per_device_eval_batch_size=16,\n",
    "                # logging_steps=16,\n",
    "                save_safetensors=True,\n",
    "                overwrite_output_dir=True,\n",
    "                load_best_model_at_end=True,\n",
    "            )\n",
    "\n",
    "            self.trainer = Trainer(\n",
    "                model=self.model,\n",
    "                args=args,\n",
    "                train_dataset=self.train_dataset,\n",
    "                eval_dataset=self.eval_dataset,\n",
    "                data_collator=self.data_collator,\n",
    "                compute_metrics=self.compute_metrics,\n",
    "                tokenizer=tokenizer,\n",
    "            )\n",
    "        else:\n",
    "            args = TrainingArguments(\n",
    "                output_dir=output_dir,\n",
    "                evaluation_strategy=\"no\",\n",
    "                save_strategy=\"epoch\",\n",
    "                save_total_limit=3,\n",
    "                learning_rate=2e-5,\n",
    "                num_train_epochs=epoch,\n",
    "                weight_decay=0.01,\n",
    "                per_device_train_batch_size=32,\n",
    "                per_device_eval_batch_size=16,\n",
    "                # logging_steps=16,\n",
    "                save_safetensors=True,\n",
    "                overwrite_output_dir=True,\n",
    "                # load_best_model_at_end=True,\n",
    "            )\n",
    "\n",
    "            self.trainer = Trainer(\n",
    "                model=self.model,\n",
    "                args=args,\n",
    "                train_dataset=self.train_dataset,\n",
    "                eval_dataset=self.eval_dataset,\n",
    "                data_collator=self.data_collator,\n",
    "                # compute_metrics=self.compute_metrics,\n",
    "                tokenizer=tokenizer,\n",
    "            )\n",
    "        return args\n",
    "\n",
    "    def set_args(self, args):\n",
    "        \"\"\"\n",
    "        从外部重新设置 TrainingArguments，args 更新后，trainer也进行更新\n",
    "        \"\"\"\n",
    "        self.args = args\n",
    "\n",
    "        self.trainer = Trainer(\n",
    "            model=self.model,\n",
    "            args=self.args,\n",
    "            train_dataset=self.train_dataset,\n",
    "            eval_dataset=self.eval_dataset,\n",
    "            data_collator=self.data_collator,\n",
    "            # compute_metrics=compute_metrics,\n",
    "            tokenizer=self.tokenizer,\n",
    "        )\n",
    "\n",
    "    def train(self, epoch=None, over_write=False):\n",
    "        if epoch:\n",
    "            self.args.num_train_epochs = epoch\n",
    "\n",
    "        best_model_path = os.path.join(self.args.output_dir, \"best_model\")\n",
    "\n",
    "        if over_write or not os.path.exists(best_model_path):\n",
    "            self.trainer.train()\n",
    "            self.trainer.save_model(best_model_path)\n",
    "        else:\n",
    "            print(\n",
    "                f\"预训练权重 {best_model_path} 已存在，且over_write={over_write}。不启动模型训练！\"\n",
    "            )\n",
    "\n",
    "    def eval(self, eval_dataset):\n",
    "        predictions = self.trainer.predict(eval_dataset)\n",
    "        preds = np.argmax(predictions.predictions, axis=-1)\n",
    "        metric = evaluate.load(\"glue\", \"mrpc\")\n",
    "        return metric.compute(predictions=preds, references=predictions.label_ids)\n",
    "\n",
    "    def predict(self, pred_dataset):\n",
    "        predictions = self.trainer.predict(pred_dataset)\n",
    "        preds = np.argmax(predictions.predictions, axis=-1)\n",
    "        return pred_dataset.add_column(\"pred\", preds)"
   ]
  },
  {
   "cell_type": "code",
   "execution_count": 11,
   "metadata": {},
   "outputs": [],
   "source": [
    "train_dataset = new_dataset[\"train\"].train_test_split(train_size=5000)"
   ]
  },
  {
   "cell_type": "code",
   "execution_count": 12,
   "metadata": {},
   "outputs": [
    {
     "name": "stderr",
     "output_type": "stream",
     "text": [
      "/home/jie/anaconda3/envs/d2l/lib/python3.11/site-packages/transformers/training_args.py:1525: FutureWarning: `evaluation_strategy` is deprecated and will be removed in version 4.46 of 🤗 Transformers. Use `eval_strategy` instead\n",
      "  warnings.warn(\n",
      "huggingface/tokenizers: The current process just got forked, after parallelism has already been used. Disabling parallelism to avoid deadlocks...\n",
      "To disable this warning, you can either:\n",
      "\t- Avoid using `tokenizers` before the fork if possible\n",
      "\t- Explicitly set the environment variable TOKENIZERS_PARALLELISM=(true | false)\n",
      "huggingface/tokenizers: The current process just got forked, after parallelism has already been used. Disabling parallelism to avoid deadlocks...\n",
      "To disable this warning, you can either:\n",
      "\t- Avoid using `tokenizers` before the fork if possible\n",
      "\t- Explicitly set the environment variable TOKENIZERS_PARALLELISM=(true | false)\n"
     ]
    }
   ],
   "source": [
    "bert_csl = BertCLS(\n",
    "    model=bert,\n",
    "    tokenizer=tokenizer,\n",
    "    train_dataset=train_dataset[\"train\"],\n",
    "    eval_dataset=new_dataset[\"test\"],\n",
    "    output_dir=\"output/multi_cls/\",\n",
    "    epoch=3,\n",
    ")"
   ]
  },
  {
   "cell_type": "code",
   "execution_count": null,
   "metadata": {},
   "outputs": [],
   "source": [
    "bert_csl.train(5, over_write=True)"
   ]
  },
  {
   "cell_type": "code",
   "execution_count": null,
   "metadata": {},
   "outputs": [],
   "source": [
    "pred_dataset = bert_csl.predict(new_dataset[\"test\"])"
   ]
  },
  {
   "cell_type": "code",
   "execution_count": 16,
   "metadata": {},
   "outputs": [
    {
     "name": "stdout",
     "output_type": "stream",
     "text": [
      "              precision    recall  f1-score   support\n",
      "\n",
      "           0       0.94      0.90      0.92      1900\n",
      "           1       0.98      0.97      0.97      1900\n",
      "           2       0.87      0.88      0.88      1900\n",
      "           3       0.87      0.91      0.89      1900\n",
      "\n",
      "    accuracy                           0.91      7600\n",
      "   macro avg       0.92      0.91      0.91      7600\n",
      "weighted avg       0.92      0.91      0.91      7600\n",
      "\n"
     ]
    }
   ],
   "source": [
    "print(classification_report(\n",
    "    pred_dataset[\"label\"],\n",
    "    pred_dataset[\"pred\"],\n",
    "    # output_dict=True\n",
    "))"
   ]
  },
  {
   "cell_type": "code",
   "execution_count": 21,
   "metadata": {},
   "outputs": [
    {
     "data": {
      "image/png": "[encoded data removed]",
      "text/plain": [
       "<Figure size 640x480 with 1 Axes>"
      ]
     },
     "metadata": {},
     "output_type": "display_data"
    }
   ],
   "source": [
    "import seaborn as sns\n",
    "import matplotlib.pyplot as plt\n",
    "\n",
    "# 绘制混淆矩阵热图\n",
    "cm = confusion_matrix(\n",
    "    pred_dataset[\"label\"],\n",
    "    pred_dataset[\"pred\"],\n",
    ")\n",
    "\n",
    "sns.heatmap(cm, annot=True, fmt=\"d\", cmap=\"Blues\", cbar=False)\n",
    "plt.xlabel(\"Predicted Label\")\n",
    "plt.ylabel(\"True Label\")\n",
    "plt.title(\"Confusion Matrix\")\n",
    "plt.xticks(ticks=range(len(cm)), labels=dataset[\"train\"].features['label'].names)  # 更改为你的标签\n",
    "plt.yticks(ticks=range(len(cm)), labels=dataset[\"train\"].features['label'].names)  # 更改为你的标签\n",
    "\n",
    "plt.show()"
   ]
  },
  {
   "cell_type": "code",
   "execution_count": null,
   "metadata": {},
   "outputs": [],
   "source": []
  }
 ],
 "metadata": {
  "kernelspec": {
   "display_name": "llm",
   "language": "python",
   "name": "python3"
  },
  "language_info": {
   "codemirror_mode": {
    "name": "ipython",
    "version": 3
   },
   "file_extension": ".py",
   "mimetype": "text/x-python",
   "name": "python",
   "nbconvert_exporter": "python",
   "pygments_lexer": "ipython3",
   "version": "3.11.7"
  }
 },
 "nbformat": 4,
 "nbformat_minor": 2
}
